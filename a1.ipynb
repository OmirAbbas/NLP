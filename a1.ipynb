{
 "cells": [
  {
   "cell_type": "markdown",
   "id": "60cc4b56-c364-4cad-940d-da460999a6bb",
   "metadata": {},
   "source": [
    "### Assignment 1"
   ]
  },
  {
   "cell_type": "markdown",
   "id": "0e48e05f-5ac4-4002-afa9-1d62b161cca2",
   "metadata": {},
   "source": [
    "In this assignment, you will implement your first sentiment analysis classifier.\n",
    "\n",
    "1- Implement the rquired data preprocessing: (5%)\n",
    "   - loading data: movie reviews, using the IMDb dataset.\n",
    "   - tokenizing data\n",
    "   - creating data splits\n",
    "   - creating a vocabulary\n",
    "   - numericalizing data\n",
    "\n",
    "\n",
    "2- Use CBOW for embedding (5%)\n",
    "\n",
    "3- Use Multinomial Naive Bayes model and linear SVM for the downstream classification task. (5%)\n",
    "\n",
    "4- Organize your code in Multiple cells (5%)\n"
   ]
  },
  {
   "cell_type": "markdown",
   "id": "44b89889-3871-466f-9b36-a9b3ed595429",
   "metadata": {},
   "source": [
    "#### Check-In:\n",
    "\n",
    "<font color='red'>- Rename this file as follows: a1-YOUR_UQU_ID.ipynb\n",
    "</font><br>\n",
    "<font color='red'>- Upload your notebook file to Blackboard\n",
    "</font>"
   ]
  },
  {
   "cell_type": "code",
   "execution_count": 1,
   "id": "081d0251-1a90-4348-9787-734d869f0261",
   "metadata": {},
   "outputs": [],
   "source": [
    "#%pip install datasets\n",
    "#%pip install numpy\n",
    "#%pip install torch"
   ]
  },
  {
   "cell_type": "code",
   "execution_count": 13,
   "id": "92a7cefe-3d41-4b4f-9283-0c7435d85b41",
   "metadata": {},
   "outputs": [],
   "source": [
    "# load and split dataset\n",
    "\n",
    "from datasets import load_dataset\n",
    "import numpy as np\n",
    "\n",
    "imdb_moview = load_dataset(\"ajaykarthick/imdb-movie-reviews\")\n",
    "\n",
    "train_ds = imdb_moview[\"train\"]\n",
    "test_ds = imdb_moview[\"test\"]\n",
    "\n",
    "\n",
    "Xtemp = np.asarray(train_ds['review'][:])\n",
    "Ytemp = np.asarray(train_ds['label'][:])\n",
    "\n",
    "\n",
    "Xtest = np.asarray(test_ds['review'][:])\n",
    "Ytest = np.asarray(test_ds['label'][:])"
   ]
  },
  {
   "cell_type": "code",
   "execution_count": 14,
   "id": "c16dadc0-c8a0-41e6-a9a8-49fad3ab3e07",
   "metadata": {},
   "outputs": [
    {
     "data": {
      "text/plain": [
       "(40000,)"
      ]
     },
     "execution_count": 14,
     "metadata": {},
     "output_type": "execute_result"
    }
   ],
   "source": [
    "Xtemp.shape"
   ]
  },
  {
   "cell_type": "code",
   "execution_count": 15,
   "id": "cdf541c2-a9d0-4d19-8842-135089162c54",
   "metadata": {},
   "outputs": [
    {
     "data": {
      "text/plain": [
       "(40000,)"
      ]
     },
     "execution_count": 15,
     "metadata": {},
     "output_type": "execute_result"
    }
   ],
   "source": [
    "Ytemp.shape"
   ]
  },
  {
   "cell_type": "code",
   "execution_count": 16,
   "id": "891250a8-87d9-4204-8a1b-27703e126a05",
   "metadata": {},
   "outputs": [
    {
     "data": {
      "text/plain": [
       "array([0, 1])"
      ]
     },
     "execution_count": 16,
     "metadata": {},
     "output_type": "execute_result"
    }
   ],
   "source": [
    "np.unique(Ytemp)"
   ]
  },
  {
   "cell_type": "code",
   "execution_count": null,
   "id": "e6aa2299-181a-4ff8-bcdc-465e1c7c9bf2",
   "metadata": {},
   "outputs": [],
   "source": []
  }
 ],
 "metadata": {
  "kernelspec": {
   "display_name": "Python 3 (ipykernel)",
   "language": "python",
   "name": "python3"
  },
  "language_info": {
   "codemirror_mode": {
    "name": "ipython",
    "version": 3
   },
   "file_extension": ".py",
   "mimetype": "text/x-python",
   "name": "python",
   "nbconvert_exporter": "python",
   "pygments_lexer": "ipython3",
   "version": "3.9.12"
  }
 },
 "nbformat": 4,
 "nbformat_minor": 5
}
